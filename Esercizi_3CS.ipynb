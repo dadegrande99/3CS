{
  "nbformat": 4,
  "nbformat_minor": 0,
  "metadata": {
    "colab": {
      "provenance": []
    },
    "kernelspec": {
      "name": "python3",
      "display_name": "Python 3"
    },
    "language_info": {
      "name": "python"
    }
  },
  "cells": [
    {
      "cell_type": "markdown",
      "source": [
        "## 1. Algoritmi semplici"
      ],
      "metadata": {
        "id": "T2gH3LnR2K55"
      }
    },
    {
      "cell_type": "markdown",
      "source": [
        "### Esercizio 1\n",
        "\n",
        "Scrivi un programma che chiede all'utente di inserire due numeri e stampa la loro somma."
      ],
      "metadata": {
        "id": "eUqGJIHQ2Kys"
      }
    },
    {
      "cell_type": "code",
      "source": [],
      "metadata": {
        "id": "nQ5-qiHy1NL_"
      },
      "execution_count": null,
      "outputs": []
    },
    {
      "cell_type": "markdown",
      "source": [
        "### Esercizio 2\n",
        "\n",
        "Scrivi un programma che legge il raggio di un cerchio dall'utente e calcola l'area del cerchio. (Suggerimento: $Area = π \\times r^2$, puoi usare `math.pi` per $\\pi$)"
      ],
      "metadata": {
        "id": "_2VC3It62LP_"
      }
    },
    {
      "cell_type": "code",
      "execution_count": 1,
      "metadata": {
        "id": "RuRobBJG1KBl",
        "colab": {
          "base_uri": "https://localhost:8080/"
        },
        "outputId": "fc275fc7-d6fb-4bef-8235-6c1ad1c0d348"
      },
      "outputs": [
        {
          "output_type": "stream",
          "name": "stdout",
          "text": [
            "3.141592653589793\n"
          ]
        }
      ],
      "source": [
        "import math\n",
        "\n",
        "print(math.pi)"
      ]
    },
    {
      "cell_type": "markdown",
      "source": [
        "### Esercizio 3\n",
        "\n",
        "Scrivi un programma che chiede all'utente di inserire tre numeri e calcola la loro media."
      ],
      "metadata": {
        "id": "ZsicK7t52Ls1"
      }
    },
    {
      "cell_type": "code",
      "source": [],
      "metadata": {
        "id": "rBXsUAlB2KIN"
      },
      "execution_count": null,
      "outputs": []
    },
    {
      "cell_type": "markdown",
      "source": [
        "## condizioni if\n",
        "\n",
        "\n"
      ],
      "metadata": {
        "id": "Ih7EhPxa2c7s"
      }
    },
    {
      "cell_type": "markdown",
      "source": [
        "### Esercizio 1:\n",
        "Scrivi un programma Python che chiede all'utente di inserire un numero e determina se è pari o dispari.\n",
        "\n"
      ],
      "metadata": {
        "id": "zI4hAXkK2cpz"
      }
    },
    {
      "cell_type": "code",
      "source": [],
      "metadata": {
        "id": "lp8IPRLH2dz9"
      },
      "execution_count": null,
      "outputs": []
    },
    {
      "cell_type": "markdown",
      "source": [
        "### Esercizio 2\n",
        "Scrivi un programma Python che chiede all'utente di inserire la propria età e stampa un messaggio che indica se l'utente è minorenne, maggiorenne o anziano (65 anni o più).\n"
      ],
      "metadata": {
        "id": "9DDZWC7N2cb4"
      }
    },
    {
      "cell_type": "code",
      "source": [],
      "metadata": {
        "id": "sRdByHoE2eHk"
      },
      "execution_count": null,
      "outputs": []
    },
    {
      "cell_type": "markdown",
      "source": [
        "### Esercizio 3\n",
        "Scrivi un programma Python che chiede all'utente di inserire due numeri e stampa quale dei due è maggiore. Se sono uguali, stampa un messaggio appropriato."
      ],
      "metadata": {
        "id": "nSmNzcB92cOC"
      }
    },
    {
      "cell_type": "code",
      "source": [],
      "metadata": {
        "id": "RM0AgDs42a8p"
      },
      "execution_count": null,
      "outputs": []
    },
    {
      "cell_type": "markdown",
      "source": [
        "## cicli while\n",
        "\n"
      ],
      "metadata": {
        "id": "sn0RfTzW2tD8"
      }
    },
    {
      "cell_type": "markdown",
      "source": [
        "### Esercizio 1\n",
        "\n",
        "Scrivi un programma Python che continua a chiedere all'utente di inserire numeri finché l'utente non inserisce zero. Alla fine, stampa la somma di tutti i numeri inseriti.\n",
        "\n"
      ],
      "metadata": {
        "id": "MH6oK5Kx2sw1"
      }
    },
    {
      "cell_type": "code",
      "source": [],
      "metadata": {
        "id": "pdp5mz662thK"
      },
      "execution_count": null,
      "outputs": []
    },
    {
      "cell_type": "markdown",
      "source": [
        "### Esercizio 2\n",
        "\n",
        "Scrivi un programma Python che genera un numero casuale tra 1 e 10 (usa `random.randint(1, 10)`) e chiede all'utente di indovinarlo. Il programma continua a chiedere finché l'utente non indovina il numero corretto.\n",
        "\n"
      ],
      "metadata": {
        "id": "b5nNT5FF2spf"
      }
    },
    {
      "cell_type": "code",
      "source": [],
      "metadata": {
        "id": "BZLa7lr-2tyi"
      },
      "execution_count": null,
      "outputs": []
    },
    {
      "cell_type": "markdown",
      "source": [
        "### Esercizio 3\n",
        "\n",
        "Scrivi un programma Python che chiede all'utente di inserire un numero intero positivo e utilizza un ciclo `while` per calcolare il fattoriale di quel numero."
      ],
      "metadata": {
        "id": "edGY7Ab12sT2"
      }
    },
    {
      "cell_type": "code",
      "source": [],
      "metadata": {
        "id": "3_2msCKQ2uK4"
      },
      "execution_count": null,
      "outputs": []
    },
    {
      "cell_type": "markdown",
      "source": [
        "## cicli for\n"
      ],
      "metadata": {
        "id": "oTLjWHs426IJ"
      }
    },
    {
      "cell_type": "markdown",
      "source": [
        "### Esercizio 1\n",
        "\n",
        "Scrivi un programma Python che chiede all'utente di inserire un numero intero positivo e stampa tutti i numeri da 1 a quel numero."
      ],
      "metadata": {
        "id": "g-6i2hbf25-j"
      }
    },
    {
      "cell_type": "code",
      "source": [],
      "metadata": {
        "id": "qf7xPqr03HEH"
      },
      "execution_count": null,
      "outputs": []
    },
    {
      "cell_type": "markdown",
      "source": [
        "### Esercizio 2\n",
        "\n",
        "Scrivi un programma Python che chiede all'utente di inserire un numero e stampa la tabellina di quel numero da 1 a 10.\n"
      ],
      "metadata": {
        "id": "ou-v0Fiu25q-"
      }
    },
    {
      "cell_type": "code",
      "source": [],
      "metadata": {
        "id": "Iao6s0IQ3Hbg"
      },
      "execution_count": null,
      "outputs": []
    },
    {
      "cell_type": "markdown",
      "source": [
        "### Esercizio 3\n",
        "\n",
        "Scrivi un programma Python che chiede all'utente di inserire una parola e utilizza un ciclo `for` per stampare ogni lettera della parola su una nuova linea."
      ],
      "metadata": {
        "id": "lF8GwcX325Wu"
      }
    },
    {
      "cell_type": "code",
      "source": [],
      "metadata": {
        "id": "1Mxuv_UZ3ICZ"
      },
      "execution_count": null,
      "outputs": []
    }
  ]
}